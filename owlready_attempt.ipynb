{
 "cells": [
  {
   "cell_type": "code",
   "execution_count": 1,
   "metadata": {},
   "outputs": [
    {
     "name": "stderr",
     "output_type": "stream",
     "text": [
      "* Owlready * Creating new ontology owl <http://www.w3.org/2002/07/owl>.\n",
      "* Owlready * Creating new ontology 22-rdf-syntax-ns <http://www.w3.org/1999/02/22-rdf-syntax-ns>.\n",
      "* Owlready * Creating new ontology rdf-schema <http://www.w3.org/2000/01/rdf-schema>.\n",
      "* Owlready * Creating new ontology XMLSchema <http://www.w3.org/2001/XMLSchema>.\n",
      "* Owlready * Creating new ontology anonymous <http://anonymous>.\n",
      "* Owlready * Creating new ontology owlready_ontology <http://www.lesfleursdunormal.fr/static/_downloads/owlready_ontology.owl>.\n",
      "* Owlready *     ...loading ontology owlready_ontology from /home/rana/Envs/amazon3/lib/python3.5/site-packages/owlready/owlready_ontology.owl...\n"
     ]
    }
   ],
   "source": [
    "from owlready import *\n",
    "from owlready.editor import *\n",
    "from owlready.instance_editor import *\n",
    "import types\n",
    "import editobj3"
   ]
  },
  {
   "cell_type": "code",
   "execution_count": 2,
   "metadata": {},
   "outputs": [
    {
     "name": "stderr",
     "output_type": "stream",
     "text": [
      "* Owlready * Creating new ontology onto <http://test.org/onto.owl>.\n"
     ]
    }
   ],
   "source": [
    "onto = Ontology(\"http://test.org/onto.owl\")"
   ]
  },
  {
   "cell_type": "code",
   "execution_count": null,
   "metadata": {
    "collapsed": true
   },
   "outputs": [],
   "source": [
    "def retrieve_info_from_page(asin):\n",
    "\n",
    "    item_characteristics_dict = {}\n",
    "\n",
    "    page = open('./pages/'+asin, 'r')\n",
    "    soup = BeautifulSoup(page.read(), 'html.parser')\n",
    "    tab = soup.find('div', {'id': 'HLCXComparisonWidget_feature_div'})\n",
    "\n",
    "    item_characteristics_dict['name'] = soup.find('span', {'id':'productTitle'}).text.strip()\n",
    "    item_characteristics_dict['asin'] = asin\n",
    "    \n",
    "    bullets = soup.find('div', {'id':'feature-bullets'})\n",
    "    #for span in bullets.findAll('span'):\n",
    "        #print span.text.strip()\n",
    "\n",
    "    try:\n",
    "        for i, tr in enumerate(tab.findAll('tr')):\n",
    "            # tr 0:\n",
    "            # tr 1:\n",
    "            # tr 2:\n",
    "            # tr 3: customer rating\n",
    "            if i<4: continue\n",
    "\n",
    "            key = tr.findAll('td')[0].span.text\n",
    "            if tr.findAll('td')[1].span != None: value = tr.findAll('td')[1].span.text\n",
    "            else: value = tr.findAll('td')[1].a.text\n",
    "            item_characteristics_dict[key.strip().lower()] = value.strip().lower()\n",
    "    except: \n",
    "        print 'no tr tab'\n",
    "        \n",
    "    # PROD DETAILS\n",
    "    details_tab = soup.find('div', {'id':'prodDetails'})\n",
    "    #print details_tab\n",
    "\n",
    "    if soup.find('div', {'id':'productDescription'})!=None: \n",
    "        description1 = soup.find('div', {'id':'productDescription'}).p.text\n",
    "        print description1\n",
    "\n",
    "    pprint(item_characteristics_dict, indent=4)\n",
    "    \n",
    "    review_list = []\n",
    "    f = open('./results/' + asin[:-5] + '.json', 'r')\n",
    "    for line in f:\n",
    "        review_list.append(json.loads(line)['text'])\n",
    "        \n",
    "    rel_list = []\n",
    "    for r in review_list:\n",
    "        s = parsetree(r.encode('ascii', 'ignore'), relations=True, lemmata=True)\n",
    "        for sentence in s:\n",
    "            rel_dict = {}\n",
    "        \n",
    "            for rel in sentence.relations:\n",
    "                for rnum in sentence.relations[rel]:\n",
    "\n",
    "                    if rnum not in rel_dict: \n",
    "                        rel_dict[rnum] = {}\n",
    "                        rel_dict[rnum][rel] = sentence.relations[rel][rnum]\n",
    "                    else:\n",
    "                        rel_dict[rnum][rel] = sentence.relations[rel][rnum]\n",
    "\n",
    "            rel_list.append(rel_dict)\n",
    "    \n",
    "    return item_characteristics_dict, rel_list"
   ]
  },
  {
   "cell_type": "code",
   "execution_count": 3,
   "metadata": {
    "collapsed": true
   },
   "outputs": [],
   "source": [
    "class Phone(Thing):\n",
    "    ontology = onto\n",
    "    \n",
    "class Camera(Thing):\n",
    "    ontology = onto\n",
    "    \n",
    "class has_camera(Property):\n",
    "    ontology = onto\n",
    "    domain = [Phone]\n",
    "    range = [Camera]\n",
    "ANNOTATIONS[has_camera][\"python_name\"] = \"has_camera\"\n",
    "\n",
    "camera_8mp = Camera(\"camera_8mp\")\n",
    "camera_16mp = Camera(\"camera_16mp\")\n",
    "\n",
    "class galaxy_s8 (Phone):\n",
    "    ontology = onto\n",
    "    equivalent_to = [Phone & restriction(has_camera, VALUE, camera_16mp)]\n",
    "    \n",
    "    def print_name(self):\n",
    "        print(\"hey there\")"
   ]
  },
  {
   "cell_type": "code",
   "execution_count": 4,
   "metadata": {},
   "outputs": [
    {
     "name": "stderr",
     "output_type": "stream",
     "text": [
      "* Owlready * Running HermiT...\n",
      "    java -Xmx2000M -cp /home/rana/Envs/amazon3/lib/python3.5/site-packages/owlready/hermit:/home/rana/Envs/amazon3/lib/python3.5/site-packages/owlready/hermit/HermiT.jar org.semanticweb.HermiT.cli.CommandLine -c -O -D -I file:////tmp/tmpfj7ghuzj\n",
      "* Owlready * HermiT took 0.485062837600708 seconds\n",
      "* Owlready * Reparenting phone_1: {onto.Phone} => {onto.galaxy_s8}\n"
     ]
    }
   ],
   "source": [
    "query = Phone(has_camera = [camera_16mp])\n",
    "query.closed_world()\n",
    "onto.sync_reasoner()"
   ]
  },
  {
   "cell_type": "code",
   "execution_count": 5,
   "metadata": {},
   "outputs": [
    {
     "name": "stdout",
     "output_type": "stream",
     "text": [
      "hey there\n"
     ]
    }
   ],
   "source": [
    "query.print_name()"
   ]
  },
  {
   "cell_type": "code",
   "execution_count": 6,
   "metadata": {},
   "outputs": [
    {
     "name": "stdout",
     "output_type": "stream",
     "text": [
      "* Editobj3 * Editor dialog ready at http://127.0.0.1:8080/editobj/main.html !\n",
      "======== Running on http://127.0.0.1:8080 ========\n",
      "(Press CTRL+C to quit)\n"
     ]
    }
   ],
   "source": [
    "for ontology in onto.indirectly_imported_ontologies(): configure_editobj_from_ontology(ontology)\n",
    "\n",
    "editobj3.GUI = \"HTML\" # \"Qt\" or \"HTML\"\n",
    "\n",
    "if editobj3.GUI == \"Qt\": # Required by Qt\n",
    "    import sys, PyQt5.QtWidgets as qtwidgets\n",
    "    if qtwidgets.QApplication.startingUp(): qtwidgets.app = qtwidgets.QApplication(sys.argv)\n",
    "\n",
    "editor = OntologyInstanceEditor()\n",
    "editor.set_ontology(onto, edited_classes = [Phone, Camera, galaxy_s8, Thing])\n",
    "editor.main()"
   ]
  },
  {
   "cell_type": "code",
   "execution_count": 7,
   "metadata": {},
   "outputs": [
    {
     "ename": "ImportError",
     "evalue": "No module named 'pillow'",
     "output_type": "error",
     "traceback": [
      "\u001b[0;31m---------------------------------------------------------------------------\u001b[0m",
      "\u001b[0;31mImportError\u001b[0m                               Traceback (most recent call last)",
      "\u001b[0;32m<ipython-input-7-e32915389b2c>\u001b[0m in \u001b[0;36m<module>\u001b[0;34m()\u001b[0m\n\u001b[0;32m----> 1\u001b[0;31m \u001b[0;32mimport\u001b[0m \u001b[0mpillow\u001b[0m\u001b[0;34m\u001b[0m\u001b[0m\n\u001b[0m",
      "\u001b[0;31mImportError\u001b[0m: No module named 'pillow'"
     ]
    }
   ],
   "source": []
  },
  {
   "cell_type": "code",
   "execution_count": null,
   "metadata": {
    "collapsed": true
   },
   "outputs": [],
   "source": []
  }
 ],
 "metadata": {
  "kernelspec": {
   "display_name": "amazon3",
   "language": "python",
   "name": "amazon3"
  }
 },
 "nbformat": 4,
 "nbformat_minor": 2
}
