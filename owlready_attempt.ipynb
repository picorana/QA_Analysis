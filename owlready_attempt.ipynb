{
 "cells": [
  {
   "cell_type": "code",
   "execution_count": 1,
   "metadata": {},
   "outputs": [],
   "source": [
    "from owlready2 import *\n",
    "#from owlready.editor import *\n",
    "#from owlready.instance_editor import *\n",
    "import types\n",
    "from pprint import pprint\n",
    "import editobj3\n",
    "from bs4 import BeautifulSoup"
   ]
  },
  {
   "cell_type": "code",
   "execution_count": 2,
   "metadata": {},
   "outputs": [],
   "source": [
    "onto = get_ontology(\"http://test.org/onto.owl\")"
   ]
  },
  {
   "cell_type": "code",
   "execution_count": 3,
   "metadata": {
    "collapsed": true
   },
   "outputs": [],
   "source": [
    "def retrieve_info_from_page(asin):\n",
    "\n",
    "    item_characteristics_dict = {}\n",
    "\n",
    "    page = open('./pages/'+asin, 'r')\n",
    "    soup = BeautifulSoup(page.read(), 'html.parser')\n",
    "    tab = soup.find('div', {'id': 'HLCXComparisonWidget_feature_div'})\n",
    "\n",
    "    # PRODUCT TITLE\n",
    "    item_characteristics_dict['name'] = soup.find('span', {'id':'productTitle'}).text.strip().replace(' ', '_').replace('\"', \"\").replace(\"'\", \"\").replace(\"-\", \"\").replace(\",\", \"\").replace(\".\", \"\")\n",
    "    \n",
    "    # PRODUCT ASIN\n",
    "    item_characteristics_dict['asin'] = asin\n",
    "    \n",
    "    # PRODUCT CLASSES\n",
    "    item_characteristics_dict['classes'] = []\n",
    "    tmp = soup.find('div', {'id':'wayfinding-breadcrumbs_feature_div'})\n",
    "    for i in tmp.findAll('a'):\n",
    "        item_characteristics_dict['classes'].append(i.text.strip().replace(' ', '_').replace('&', 'and'))\n",
    "        \n",
    "    # PRODUCT BRAND\n",
    "    if soup.find('a', {'id': 'bylineInfo'}) != None:\n",
    "        item_charasteristics_dict = soup.find('a', {'id': 'bylineInfo'}).text.strip()\n",
    "    # to finish\n",
    "\n",
    "    bullets = soup.find('div', {'id':'feature-bullets'})\n",
    "    #for span in bullets.findAll('span'):\n",
    "        #print span.text.strip()\n",
    "\n",
    "    try:\n",
    "        for i, tr in enumerate(tab.findAll('tr')):\n",
    "            # tr 0:\n",
    "            # tr 1:\n",
    "            # tr 2:\n",
    "            # tr 3: customer rating\n",
    "            if i<4: continue\n",
    "\n",
    "            key = tr.findAll('td')[0].span.text\n",
    "            if tr.findAll('td')[1].span != None: value = tr.findAll('td')[1].span.text\n",
    "            else: value = tr.findAll('td')[1].a.text\n",
    "            item_characteristics_dict[key.strip().lower()] = value.strip().lower()\n",
    "    except: \n",
    "        print('no tr tab')\n",
    "        \n",
    "    # PROD DETAILS\n",
    "    details_tab = soup.find('div', {'id':'prodDetails'})\n",
    "    #print details_tab\n",
    "\n",
    "    if soup.find('div', {'id':'productDescription'})!=None: \n",
    "        description1 = soup.find('div', {'id':'productDescription'}).p.text\n",
    "        #print(description1)\n",
    "\n",
    "    #pprint(item_characteristics_dict, indent=4)\n",
    "    \n",
    "    return item_characteristics_dict"
   ]
  },
  {
   "cell_type": "code",
   "execution_count": 4,
   "metadata": {},
   "outputs": [
    {
     "name": "stdout",
     "output_type": "stream",
     "text": [
      "no tr tab\n"
     ]
    }
   ],
   "source": [
    "dict_list = []\n",
    "for i, page in enumerate(os.listdir('./pages')):\n",
    "    dict_list.append(retrieve_info_from_page(page))\n",
    "    \n",
    "#print(dict_list)"
   ]
  },
  {
   "cell_type": "code",
   "execution_count": 5,
   "metadata": {},
   "outputs": [],
   "source": [
    "for i in onto.classes():\n",
    "    print(i)"
   ]
  },
  {
   "cell_type": "code",
   "execution_count": 6,
   "metadata": {},
   "outputs": [],
   "source": [
    "# CLASSES\n",
    "for i in dict_list:\n",
    "    with onto:\n",
    "        if \"classes\" in i:\n",
    "            if i[\"classes\"][0] not in [j._name for j in onto.classes()]: \n",
    "                New_Class1 = types.new_class(i[\"classes\"][0], (Thing,))\n",
    "\n",
    "            if i[\"classes\"][1] not in [j._name for j in onto.classes()]: \n",
    "                New_Class2 = types.new_class(i[\"classes\"][1], (Thing,))\n",
    "                New_Class2.is_a.append(next(j for j in onto.classes() if j.name == i[\"classes\"][0]))\n",
    "\n",
    "            if i[\"classes\"][2] not in [j._name for j in onto.classes()]: \n",
    "                New_Class3 = types.new_class(i[\"classes\"][2], (Thing,))\n",
    "                New_Class3.is_a.append(next(j for j in onto.classes() if j.name == i[\"classes\"][1]))"
   ]
  },
  {
   "cell_type": "code",
   "execution_count": 7,
   "metadata": {},
   "outputs": [
    {
     "name": "stdout",
     "output_type": "stream",
     "text": [
      "['black']\n",
      "['red']\n",
      "['sapphire black']\n",
      "['rose gold']\n",
      "['silver']\n",
      "['white']\n",
      "['black']\n",
      "['silver']\n",
      "['black']\n",
      "['2 packs']\n",
      "['black & black']\n",
      "['black']\n",
      "['black']\n",
      "['silver']\n",
      "['black']\n",
      "['black']\n",
      "['white']\n",
      "['black']\n"
     ]
    }
   ],
   "source": [
    "# THINGS\n",
    "for i in dict_list:\n",
    "    with onto:\n",
    "        #if i[\"name\"] not in [j._name for j in onto.classes()]:\n",
    "        New_Class1 = types.new_class(i[\"name\"], (Thing,))\n",
    "        New_Class1.is_a.append(next(j for j in onto.classes() if j.name == i[\"classes\"][2]))\n",
    "\n",
    "        if \"color\" in i:\n",
    "            has_color = types.new_class(\"has_color\", (DataProperty,))\n",
    "            has_color.range = [str]\n",
    "            New_Class1.has_color.append(str(i[\"color\"]))\n",
    "            print(New_Class1.has_color)"
   ]
  },
  {
   "cell_type": "code",
   "execution_count": 15,
   "metadata": {},
   "outputs": [
    {
     "name": "stderr",
     "output_type": "stream",
     "text": [
      "* Owlready2 * Running HermiT...\n",
      "    java -Xmx2000M -cp /home/rana/Envs/amazon3/lib/python3.5/site-packages/owlready2/hermit:/home/rana/Envs/amazon3/lib/python3.5/site-packages/owlready2/hermit/HermiT.jar org.semanticweb.HermiT.cli.CommandLine -c -O -D -I file:////tmp/tmphy9hr1i_\n"
     ]
    },
    {
     "name": "stdout",
     "output_type": "stream",
     "text": [
      "[]\n",
      "[]\n",
      "[]\n",
      "[]\n",
      "[]\n",
      "[]\n",
      "[]\n",
      "[]\n",
      "[]\n",
      "[]\n",
      "[]\n",
      "[]\n",
      "[]\n",
      "[]\n",
      "[]\n",
      "[]\n",
      "[]\n",
      "[]\n",
      "[]\n",
      "[]\n",
      "[]\n",
      "[]\n",
      "[]\n",
      "[]\n",
      "[]\n",
      "[]\n",
      "[]\n",
      "[]\n",
      "[]\n",
      "[]\n",
      "[]\n",
      "[]\n",
      "[]\n",
      "[]\n",
      "[]\n",
      "[]\n",
      "[]\n",
      "[]\n",
      "[]\n",
      "[]\n",
      "[]\n",
      "['black']\n",
      "[]\n",
      "[]\n",
      "[]\n",
      "[]\n",
      "['red']\n",
      "[]\n",
      "[]\n",
      "[]\n",
      "[]\n",
      "[]\n",
      "[]\n",
      "[]\n",
      "[]\n",
      "[]\n",
      "[]\n",
      "['sapphire black']\n",
      "[]\n",
      "[]\n",
      "[]\n",
      "[]\n",
      "[]\n",
      "[]\n",
      "[]\n",
      "[]\n",
      "[]\n",
      "[]\n",
      "['rose gold']\n",
      "['silver']\n",
      "[]\n",
      "[]\n",
      "[]\n",
      "['white']\n",
      "[]\n",
      "[]\n",
      "[]\n",
      "['black']\n",
      "['silver']\n",
      "[]\n",
      "[]\n",
      "[]\n",
      "[]\n",
      "[]\n",
      "[]\n",
      "[]\n",
      "['black']\n",
      "[]\n",
      "[]\n",
      "[]\n",
      "[]\n",
      "[]\n",
      "[]\n",
      "[]\n",
      "[]\n",
      "['2 packs']\n",
      "[]\n",
      "['black & black']\n",
      "[]\n",
      "[]\n",
      "['black']\n",
      "[]\n",
      "[]\n",
      "[]\n",
      "[]\n",
      "[]\n",
      "[]\n",
      "[]\n",
      "[]\n",
      "[]\n",
      "[]\n",
      "['black']\n",
      "[]\n",
      "[]\n",
      "[]\n",
      "[]\n",
      "[]\n",
      "[]\n",
      "[]\n",
      "[]\n",
      "[]\n",
      "[]\n",
      "[]\n",
      "['silver']\n",
      "['black']\n",
      "[]\n",
      "[]\n",
      "['black']\n",
      "[]\n",
      "[]\n",
      "[]\n",
      "[]\n",
      "[]\n",
      "['white']\n",
      "[]\n",
      "['black']\n",
      "[]\n",
      "[]\n",
      "[]\n",
      "[]\n",
      "[]\n",
      "[]\n",
      "[]\n",
      "[]\n",
      "[]\n",
      "[]\n"
     ]
    },
    {
     "name": "stderr",
     "output_type": "stream",
     "text": [
      "* Owlready2 * HermiT took 0.9980196952819824 seconds\n",
      "* Owlready * Reparenting onto.Samsung_SMG900V__Galaxy_S5__16GB_Android_Smartphone_Verizon___Black_(Certified_Refurbished): {owl.Thing, onto.Unlocked_Cell_Phones} => {onto.Unlocked_Cell_Phones}\n",
      "* Owlready * Reparenting onto.OnePlus_3_RAM_6GB+ROM_64GB_4G_FDDLTE_55_inch_Android_60_Smart_Phone_Qualcomm_Snapdragon_820_Quad_Core_2x22GHz_+_2x16GHz_80MP+160MP_(Grey): {owl.Thing, onto.Unlocked_Cell_Phones} => {onto.Unlocked_Cell_Phones}\n",
      "* Owlready * Reparenting onto.OnePlus_3T_A3003_Unlocked_Smartphone_55Inch_128GB_DualSIM_4G_LTE__International_Version_(Gunmetal): {owl.Thing, onto.Unlocked_Cell_Phones} => {onto.Unlocked_Cell_Phones}\n",
      "* Owlready * Reparenting onto.Unlocked_Cell_Phones_DOOGEE_X10_Dual_Sim_Smartphones_With_50_IPS_Display__Android_60__8GB_ROM__2MP+5MP_Dual_Camera__3360mAh_Battery__GSM_Unlocked_Phone_International__Black(no_ads)_…: {owl.Thing, onto.Unlocked_Cell_Phones} => {onto.Unlocked_Cell_Phones}\n",
      "* Owlready * Reparenting onto.Sports_and_Outdoor_Play: {owl.Thing, onto.Toys_and_Games} => {onto.Toys_and_Games}\n",
      "* Owlready * Reparenting onto.Accessories: {owl.Thing, onto.Cell_Phones_and_Accessories} => {onto.Cell_Phones_and_Accessories}\n",
      "* Owlready * Reparenting onto.Samsung_Galaxy_S7_SMG930A_Unlocked_Smartphone_(Black_Onyx): {owl.Thing, onto.Unlocked_Cell_Phones} => {onto.Unlocked_Cell_Phones}\n",
      "* Owlready * Reparenting onto.Replacement_Parts: {onto.Accessories, owl.Thing} => {onto.Accessories}\n",
      "* Owlready * Reparenting onto.Padgene_DZ09_Bluetooth_Smart_Watch_with_Camera_for_Samsung_S5_/_Note_2_/_3_/_4_Nexus_6_Htc_Sony_and_Other_Android_Smartphones_(Rose_Gold): {owl.Thing, onto.Smart_Watches} => {onto.Smart_Watches}\n",
      "* Owlready * Reparenting onto.Apple_iPhone_6_16GB_Factory_Unlocked_GSM_4G_LTE_Internal_Smartphone__Space_Gray: {owl.Thing, onto.Unlocked_Cell_Phones} => {onto.Unlocked_Cell_Phones}\n",
      "* Owlready * Reparenting onto.Computer_Accessories_and_Peripherals: {onto.Computers_and_Accessories, owl.Thing} => {onto.Computers_and_Accessories}\n",
      "* Owlready * Reparenting onto.Unlocked_Cell_Phones: {owl.Thing, onto.Cell_Phones} => {onto.Cell_Phones}\n",
      "* Owlready * Reparenting onto.Samsung_Galaxy_S7_Active_G891A_32GB_Unlocked_GSM_ShatterDust_and_Water_Resistant_Smartphone_w/_12MP_Camera__Titanium_Gray: {owl.Thing, onto.Unlocked_Cell_Phones} => {onto.Unlocked_Cell_Phones}\n",
      "* Owlready * Reparenting onto.Samsung_Galaxy_S6_SMG920A_32GB_Sapphire_Black_Smartphone_for_AT&T_(Certified_Refurbished): {owl.Thing, onto.Carrier_Cell_Phones} => {onto.Carrier_Cell_Phones}\n",
      "* Owlready * Reparenting onto.Samsung_Galaxy_S6_SMG920V_32GB_Sapphire_Black_Smartphone_for_Verizon_(Certified_Refurbished): {owl.Thing, onto.Unlocked_Cell_Phones} => {onto.Unlocked_Cell_Phones}\n",
      "* Owlready * Reparenting onto.BLU_Studio_X8_HD__50_GSM_Unlocked_Smartphone_Black: {owl.Thing, onto.Unlocked_Cell_Phones} => {onto.Unlocked_Cell_Phones}\n",
      "* Owlready * Reparenting onto.OnePlus_5_A5000_55_inch_Snapdragon_835_Dual_16MP_(6GB+64GB)_4G_LTE_Dual_Sim_Smartphone_(Slate_Grey)__International_Version_No_Warranty_GSM_ONLY_NO_CDMA: {owl.Thing, onto.Unlocked_Cell_Phones} => {onto.Unlocked_Cell_Phones}\n",
      "* Owlready * Reparenting onto.Microphones_and_Accessories: {owl.Thing, onto.Musical_Instruments} => {onto.Musical_Instruments}\n",
      "* Owlready * Reparenting onto.Samsung_Galaxy_CORE_PRIME_Straight_Talk_SmartPhone_Uses_Verizon_Towers_LTE_S820: {owl.Thing, onto.Carrier_Cell_Phones} => {onto.Carrier_Cell_Phones}\n",
      "* Owlready * Reparenting onto.Apple_iPhone_6_Plus_16GB_GSM_Unlocked_Smartphone__Silver_(Certified_Refurbished): {owl.Thing, onto.Unlocked_Cell_Phones} => {onto.Unlocked_Cell_Phones}\n",
      "* Owlready * Reparenting onto.Home_Décor: {owl.Thing, onto.Home_and_Kitchen} => {onto.Home_and_Kitchen}\n",
      "* Owlready * Reparenting onto.Computers_and_Tablets: {onto.Computers_and_Accessories, owl.Thing} => {onto.Computers_and_Accessories}\n",
      "* Owlready * Reparenting onto.BLU_Advance_50__Unlocked_Dual_Sim_Smartphone__US_GSM__Black: {owl.Thing, onto.Unlocked_Cell_Phones} => {onto.Unlocked_Cell_Phones}\n",
      "* Owlready * Reparenting onto.Samsung_Galaxy_J5_Pro_J530G_(2017)_16GB_52_Unlocked_GSM_4G_LTE_OctaCore_Smartphone_w/_Dual_13MP_Cameras_Android_Nougat_and_Fingerprint_Sensor__Gold: {owl.Thing, onto.Unlocked_Cell_Phones} => {onto.Unlocked_Cell_Phones}\n",
      "* Owlready * Reparenting onto.Sazooy_DZ09_Bluetooth_Smart_Watch_Touch_Screen_Smart_Wrist_Watch_Phone_Support_SIM_TF_Card_With_Camera_Pedometer_Activity_Tracker_for_Iphone_IOS_Samsung_Android_Smartphones_(Black): {owl.Thing, onto.Smart_Watches} => {onto.Smart_Watches}\n",
      "* Owlready * Reparenting onto.Antimi_SmartWatch_Sweatproof_Smart_Watch_Phone_for_Android_HTC_Sony_Samsung_LG_Google_Pixel_/Pixel_and_iPhone_5_5S_6_6_Plus_7_Smartphones_Black: {owl.Thing, onto.Smart_Watches} => {onto.Smart_Watches}\n",
      "* Owlready * Reparenting onto.EasySMX_DZ09_Bluetooth_Smart_Watch_Phone_Smartwatch_Wristwatch_with_20MP_Camera_for_Samsung_HTC_Huawei_Xiaomi_Android_Smartphones_(Silver): {owl.Thing, onto.Smart_Watches} => {onto.Smart_Watches}\n",
      "* Owlready * Reparenting onto.Samsung_Galaxy_J7_J710M_Factory_Unlocked_Smartphone_16GB_55_Inch_13MP_No_Warranty__International_Version_Gold: {owl.Thing, onto.Unlocked_Cell_Phones} => {onto.Unlocked_Cell_Phones}\n",
      "* Owlready * Reparenting onto.Samsung_T959_Galaxy_S_Vibrant_4G_GSM_Unlocked_Android_Smartphone__Black: {owl.Thing, onto.Cell_Phone_Accessories} => {onto.Cell_Phone_Accessories}\n",
      "* Owlready * Reparenting onto.Unlocked_Smartphones_DOOGEE_X10_GSM_International_Phone__50_IPS_Display__Android_60__8GB_ROM__2MP+5MP_Dual_Camera__3360mAh_Battery__Dual_Sim_Unlocked_Cell_Phones__Gold(no_ads): {owl.Thing, onto.Unlocked_Cell_Phones} => {onto.Unlocked_Cell_Phones}\n",
      "* Owlready * Reparenting onto.OnePlus_2_Unlocked_Smartphone_64GB_Sandstone_Black_(US_Warranty_–_Model_A2005): {owl.Thing, onto.Unlocked_Cell_Phones} => {onto.Unlocked_Cell_Phones}\n",
      "* Owlready * Reparenting onto.BLU_Advance_A5_Unlocked_Dual_Sim_Smartphone_Black: {owl.Thing, onto.Unlocked_Cell_Phones} => {onto.Unlocked_Cell_Phones}\n",
      "* Owlready * Reparenting onto.Samsung_Galaxy_J3_(2016)_Duos_SMJ320H/DS_8GB_Dual_SIM_Unlocked_GSM_Smartphone__International_Version_No_Warranty_(Gold): {owl.Thing, onto.Unlocked_Cell_Phones} => {onto.Unlocked_Cell_Phones}\n",
      "* Owlready * Reparenting onto.Comkes_Essential_Oil_Diffuser_280ml_Smart_Air_Humidifier_Works_with_Alexa_App_Control_by_Smartphone_7_Color_LED_Lights_Changing_Ultrasonic_Mist_Humidifier_for_Home_Office_Baby: {owl.Thing, onto.Home_Fragrance} => {onto.Home_Fragrance}\n",
      "* Owlready * Reparenting onto.Cell_Phones: {owl.Thing, onto.Cell_Phones_and_Accessories} => {onto.Cell_Phones_and_Accessories}\n",
      "* Owlready * Reparenting onto.BLU_Studio_X8_HD__50_GSM_Unlocked_Smartphone_White: {owl.Thing, onto.Unlocked_Cell_Phones} => {onto.Unlocked_Cell_Phones}\n",
      "* Owlready * Reparenting onto.Electrical: {owl.Thing, onto.Tools_and_Home_Improvement} => {onto.Tools_and_Home_Improvement}\n",
      "* Owlready * Reparenting onto.Car_Accessories: {onto.Accessories, owl.Thing} => {onto.Accessories}\n",
      "* Owlready * Reparenting onto.LeEco_|_Le_S3_Unlocked_DualSIM_Smartphone;_55_Display_16MP_Camera_4K_Video_32GB_Storage_3GB_RAM__Gray_(US_Warranty): {owl.Thing, onto.Unlocked_Cell_Phones} => {onto.Unlocked_Cell_Phones}\n",
      "* Owlready * Reparenting onto.Electronic_Organizers: {owl.Thing, onto.Office_Electronics} => {onto.Office_Electronics}\n",
      "* Owlready * Reparenting onto.Moto_G_Plus_(5th_Generation)__Lunar_Gray__32_GB__Unlocked__Prime_Exclusive__with_Lockscreen_Offers_&_Ads: {owl.Thing, onto.Unlocked_Cell_Phones} => {onto.Unlocked_Cell_Phones}\n",
      "* Owlready * Reparenting onto.Samsung_S7_Unlocked_GSM_Smartphone_Gold_32GB: {owl.Thing, onto.Unlocked_Cell_Phones} => {onto.Unlocked_Cell_Phones}\n",
      "* Owlready * Reparenting onto.Apple_iPhone_6_16GB_Unlocked_GSM_Smartphone__Space_Gray_(Certified_Refurbished): {owl.Thing, onto.Unlocked_Cell_Phones} => {onto.Unlocked_Cell_Phones}\n",
      "* Owlready * Reparenting onto.The_NoPhone_Original: {owl.Thing, onto.Unlocked_Cell_Phones} => {onto.Unlocked_Cell_Phones}\n",
      "* Owlready * Reparenting onto.Apple_iPhone_6_Unlocked_Smartphone_16_GB_(Gold)_(Certified_Refurbished): {owl.Thing, onto.Unlocked_Cell_Phones} => {onto.Unlocked_Cell_Phones}\n",
      "* Owlready * Reparenting onto.Huawei_Honor_6X_Dual_Camera_Unlocked_Smartphone_32GB_Gray_(US_Warranty): {owl.Thing, onto.Unlocked_Cell_Phones} => {onto.Unlocked_Cell_Phones}\n",
      "* Owlready * Reparenting onto.OnePlus_3_RAM_6GB+ROM_64GB_4G_FDDLTE_55_inch_Android_60_Smart_Phone_Qualcomm_Snapdragon_820_Quad_Core_2x22GHz_+_2x16GHz_80MP+160MP_(Gold): {owl.Thing, onto.Unlocked_Cell_Phones} => {onto.Unlocked_Cell_Phones}\n",
      "* Owlready * Reparenting onto.Original_OnePlus_One_White_Black_55_3GB_RAM_64GB_1080P_Android_44_NFC_(Black): {owl.Thing, onto.Unlocked_Cell_Phones} => {onto.Unlocked_Cell_Phones}\n",
      "* Owlready * Reparenting onto.Exercise_and_Fitness: {owl.Thing, onto.Sports_and_Fitness} => {onto.Sports_and_Fitness}\n",
      "* Owlready * Reparenting onto.Samsung_Galaxy_S7_G930a_32GB_AT&T_GSM_4G_LTE_Smartphone__Black_Onyx: {owl.Thing, onto.Unlocked_Cell_Phones} => {onto.Unlocked_Cell_Phones}\n",
      "* Owlready * Reparenting onto.Samsung_Galaxy_S6_SMG920V_32GB_White_Smartphone_for_Verizon_(Certified_Refurbished): {owl.Thing, onto.Unlocked_Cell_Phones} => {onto.Unlocked_Cell_Phones}\n",
      "* Owlready * Reparenting onto.Samsung_Galaxy_Note_4_N910A_32GB_Unlocked_GSM_4G_LTE_Smartphone_Black: {owl.Thing, onto.Unlocked_Cell_Phones} => {onto.Unlocked_Cell_Phones}\n",
      "* Owlready * Reparenting onto.Wireless_Bluetooth_Sport_Headphones_Bluetooth_40_Bone_Conduction_Headphone_Bluetooth_Headset_Stereo_Builtin_Microphone_Earphones_For_Smartphone_Tablet(Black): {owl.Thing, onto.Bluetooth_Headsets} => {onto.Bluetooth_Headsets}\n",
      "* Owlready * Reparenting onto.BUBM_Portable_Waterproof_Travel_Cable_Organizer_Storage_Bag_Electronics_Accessories_Travel_Organizer_for_Laptop_Accessories_Hard_Drive_Pen_Smartphone_PassportSky_blue: {owl.Thing, onto.Electronic_Organizers} => {onto.Electronic_Organizers}\n",
      "* Owlready * Reparenting onto.Samsung_J3__Verizon_Prepaid: {owl.Thing, onto.Carrier_Cell_Phones} => {onto.Carrier_Cell_Phones}\n",
      "* Owlready * Reparenting onto.Ltieltie™Luxury_Bling_Crystal_3D_Butterfly_Diamond_PU_Leather_Wallet_Card_Holder_Flip_Case_Cover_For_smart_phones_Samsung_Galaxy_J3_(2016)_J320?: {owl.Thing, onto.Bathroom_Accessories} => {onto.Bathroom_Accessories}\n",
      "* Owlready * Reparenting onto.OnePlus_5_A5000_55_inch_Snapdragon_835_Dual_16MP_(8GB+128GB)_4G_LTE_Dual_Sim_Smartphone_(Slate_Grey)__International_Version_No_Warranty_GSM_ONLY_NO_CDMA: {owl.Thing, onto.Unlocked_Cell_Phones} => {onto.Unlocked_Cell_Phones}\n",
      "* Owlready * Reparenting onto.Wifi_Smart_Plug_Set_of_2_Mini_Smart_Outlet_Works_with_Amazon_Alexa_Remote_Control_By_Smart_Phone_from_Anywhere_Anytime_(2_Packs): {owl.Thing, onto.Outlets_and_Accessories} => {onto.Outlets_and_Accessories}\n",
      "* Owlready * Reparenting onto.Samsung_Galaxy_S3_SGHi747_4G_LTE_GSM_Unlocked_16GB_No_Warranty_(White): {owl.Thing, onto.Unlocked_Cell_Phones} => {onto.Unlocked_Cell_Phones}\n",
      "* Owlready * Reparenting onto.Spigen_Kuel_OneTap_AP230T_CD_Slot_Car_Phone_Mount_Universal_Car_Phone_Holder_for_iPhone_7_/_7_Plus_/_6S_/_6S_Plus_/_Galaxy_S8_/_S8_Plus_/_S7_/_S7_Edge_/_LG_/_Nexus_And_More: {owl.Thing, onto.Car_Accessories} => {onto.Car_Accessories}\n",
      "* Owlready * Reparenting onto.Orginal_Oneplus_X_4G_Smartphone_Android_51_Quad_Core_23GHz_3GB_RAM+16GB_ROM_with_50_inch_Screen_Dual_Sim_Card_International_Version_(White_with_Gold): {owl.Thing, onto.Unlocked_Cell_Phones} => {onto.Unlocked_Cell_Phones}\n",
      "* Owlready * Reparenting onto.Samsung_Galaxy_Grand_Prime_Dual_Sim_Factory_Unlocked_Phone__Retail_Packaging__Gold(International_Version): {owl.Thing, onto.Unlocked_Cell_Phones} => {onto.Unlocked_Cell_Phones}\n",
      "* Owlready * Reparenting onto.GreatCall_Jitterbug_Smart_EasytoUse_55”_Smartphone_for_Seniors: {owl.Thing, onto.Carrier_Cell_Phones} => {onto.Carrier_Cell_Phones}\n",
      "* Owlready * Reparenting onto.Samsung_Galaxy_S7_G930v_32GB_Verizon_Wireless_CDMA_4G_LTE_Smartphone_w/_12MP_Camera__Black_Onyx_(Certified_Refurbished): {owl.Thing, onto.Unlocked_Cell_Phones} => {onto.Unlocked_Cell_Phones}\n",
      "* Owlready * Reparenting onto.Microphones: {onto.Microphones_and_Accessories, owl.Thing} => {onto.Microphones_and_Accessories}\n",
      "* Owlready * Reparenting onto.OnePlus_One_A0001_4G_LTE_3GBRAM_64GBROM_55_Inch_International_Version__No_Warranty__Sandstone_Black: {owl.Thing, onto.Unlocked_Cell_Phones} => {onto.Unlocked_Cell_Phones}\n",
      "* Owlready * Reparenting onto.Maeffort_Smart_Watch_Outdoor_Sport_Watch_Bluetooth_Waterproof_IP68_for_HTC_Sony_Samsung_LG_Google_Pixel_Android_Phones_and_iPhone_5_5S_6_6_Plus_7_Smartphones_Black: {owl.Thing, onto.Smart_Watches} => {onto.Smart_Watches}\n",
      "* Owlready * Reparenting onto.Microsoft_Lumia_435_8GB_4G_Unlocked_GSM_Windows_Smartphone__(White): {owl.Thing, onto.Unlocked_Cell_Phones} => {onto.Unlocked_Cell_Phones}\n",
      "* Owlready * Reparenting onto.Bath: {owl.Thing, onto.Home_and_Kitchen} => {onto.Home_and_Kitchen}\n",
      "* Owlready * Reparenting onto.Home_Fragrance: {owl.Thing, onto.Home_Décor} => {onto.Home_Décor}\n",
      "* Owlready * Reparenting onto.Antimi_SmartWatch_Sweatproof_Smart_Watch_Phone_for_Android_HTC_Sony_Samsung_LG_Google_Pixel_/Pixel_and_iPhone_5_5S_6_6_Plus_7_Smartphones_Silver: {owl.Thing, onto.Smart_Watches} => {onto.Smart_Watches}\n",
      "* Owlready * Reparenting onto.Unlocked_Smartphones_DOOGEE_X5_Dual_Sim_GSM_International_Phone__50_HD_IPS_Display__Android_60__MT6580_Quad_Core__1GB_RAM+8GB_ROM__5MP_Camera_Unlocked_Cell_Phones_White_(no_ads): {owl.Thing, onto.Unlocked_Cell_Phones} => {onto.Unlocked_Cell_Phones}\n",
      "* Owlready * Reparenting onto.Office_Electronics: {owl.Thing, onto.Office_Products} => {onto.Office_Products}\n",
      "* Owlready * Reparenting onto.Fan_Shop: {owl.Thing, onto.Sports_and_Outdoors} => {onto.Sports_and_Outdoors}\n",
      "* Owlready * Reparenting onto.Apple_iPhone_6_64GB_Unlocked_Smartphone__Gold_(Certified_Refurbished): {owl.Thing, onto.Unlocked_Cell_Phones} => {onto.Unlocked_Cell_Phones}\n",
      "* Owlready * Reparenting onto.Cell_Phone_Accessories: {owl.Thing, onto.Fan_Shop} => {onto.Fan_Shop}\n",
      "* Owlready * Reparenting onto.Saramonic_SmartMic_Mini_Flexible_Condenser_Microphone_with_High_Sensitivity_for_Apple_IOS_Devices_and_Android_Smartphones: {owl.Thing, onto.Microphones} => {onto.Microphones}\n",
      "* Owlready * Reparenting onto.Samsung_Galaxy_S5_G900v_16GB_Verizon_Wireless_CDMA_Smartphone__Shimmery_White_(Certified_Refurbished): {owl.Thing, onto.Unlocked_Cell_Phones} => {onto.Unlocked_Cell_Phones}\n",
      "* Owlready * Reparenting onto.Sports_and_Fitness: {owl.Thing, onto.Sports_and_Outdoors} => {onto.Sports_and_Outdoors}\n",
      "* Owlready * Reparenting onto.BLU_VIVO_XL2__55_4G_LTE_GSM_Unlocked_Smartphone___32GB+3GB_RAM_Gold: {owl.Thing, onto.Unlocked_Cell_Phones} => {onto.Unlocked_Cell_Phones}\n",
      "* Owlready * Reparenting onto.Light_Bulbs: {owl.Thing, onto.Tools_and_Home_Improvement} => {onto.Tools_and_Home_Improvement}\n",
      "* Owlready * Reparenting onto.ASUS_ZenFone_3_MAX_ZC520TL_Smartphone_52inch_16GB_(Glacier_Silver): {owl.Thing, onto.Unlocked_Cell_Phones} => {onto.Unlocked_Cell_Phones}\n",
      "* Owlready * Reparenting onto.Huawei_P8_Lite_ALEL21_16GB_Black_Dual_Sim_5Inch_Unlocked_Smartphone__International_Stock_No_Warranty: {owl.Thing, onto.Unlocked_Cell_Phones} => {onto.Unlocked_Cell_Phones}\n",
      "* Owlready * Reparenting onto.Pools_and_Water_Fun: {owl.Thing, onto.Sports_and_Outdoor_Play} => {onto.Sports_and_Outdoor_Play}\n",
      "* Owlready * Reparenting onto.Wearable_Technology: {owl.Thing, onto.Electronics} => {onto.Electronics}\n",
      "* Owlready * Reparenting onto.Huawei_Honor_6X_Dual_Camera_Unlocked_Smartphone_32GB_Silver_(US_Warranty): {owl.Thing, onto.Unlocked_Cell_Phones} => {onto.Unlocked_Cell_Phones}\n",
      "* Owlready * Reparenting onto.Samsung_Galaxy_J1_Mini_(2016)_Duos_SMJ105H/DS_8GB_Dual_SIM_Unlocked_GSM_Smartphone__International_Version_No_Warranty_(Gold): {owl.Thing, onto.Unlocked_Cell_Phones} => {onto.Unlocked_Cell_Phones}\n",
      "* Owlready * Reparenting onto.Samsung_Galaxy_Book_12”_Windows_2in1_PC_(WiFi)_Silver_8GB_RAM/256GB_SSD_SMW720NZKAXAR: {owl.Thing, onto.Computers_and_Tablets} => {onto.Computers_and_Tablets}\n",
      "* Owlready * Reparenting onto.Samsung_Galaxy_J2_Prime_G532M__Single_Sim__4G_LTE_Factory_Unlocked_Smartphone_(Gold): {owl.Thing, onto.Unlocked_Cell_Phones} => {onto.Unlocked_Cell_Phones}\n",
      "* Owlready * Reparenting onto.RCA_G1_55_HD_Unlocked_Dual_Sim_Smartphone__Black: {owl.Thing, onto.Unlocked_Cell_Phones} => {onto.Unlocked_Cell_Phones}\n",
      "* Owlready * Reparenting onto.MultiDevice_Bluetooth_KeyboardCOO_Wireless_Keyboards_with_Builtin_Stand_for_iOS_Android_Windows_Tablets_and_Smartphone(Black): {owl.Thing, onto.Computer_Accessories_and_Peripherals} => {onto.Computer_Accessories_and_Peripherals}\n",
      "* Owlready * Reparenting onto.Samsung_J1_2016_/_Express_3_J120A_Unlocked_GSM_QuadCore_Android_Smartphone__White_(Certified_Refurbished): {owl.Thing, onto.Unlocked_Cell_Phones} => {onto.Unlocked_Cell_Phones}\n",
      "* Owlready * Reparenting onto.Samsung_USB_Data_Cable_for_Galaxy_S3/S4/Note_2_&_Other_Smartphones_4_Pack__NonRetail_Packaging__White: {owl.Thing, onto.Computer_Accessories_and_Peripherals} => {onto.Computer_Accessories_and_Peripherals}\n",
      "* Owlready * Reparenting onto.Outlets_and_Accessories: {owl.Thing, onto.Electrical} => {onto.Electrical}\n",
      "* Owlready * Reparenting onto.CUBOT_HAFURY_UMAX_(2017)_6”_3G_GSM_WCDMA_Unlocked_Dual_Sim_Smartphone_with_4500_mAh_Battery_Android_7_16GB_Storage+2GB_RAM_13MP+5MP_Dual_Camera_Notification_Light_WFI_GPS_Black_[CUBOT_OFFICIAL]: {owl.Thing, onto.Unlocked_Cell_Phones} => {onto.Unlocked_Cell_Phones}\n",
      "* Owlready * Reparenting onto.Samsung_Galaxy_Mega_63_I527_16GB_Unlocked_GSM_4G_LTE_Smartphone_w/_8MP_Camera__Black: {owl.Thing, onto.Unlocked_Cell_Phones} => {onto.Unlocked_Cell_Phones}\n",
      "* Owlready * Reparenting onto.Fitness_Tracker_Coffea_C2_Activity_Wristband_:_Bluetooth_Wireless_Smart_Bracelet_Waterproof_Pedometer_Activity_Tracker_Watch_with_Replacement_Band_for_IOS_&_Android_Smartphone: {owl.Thing, onto.Exercise_and_Fitness} => {onto.Exercise_and_Fitness}\n",
      "* Owlready * Reparenting onto.BLU_Advance_50__Unlocked_Dual_Sim_Smartphone__US_GSM__White: {owl.Thing, onto.Unlocked_Cell_Phones} => {onto.Unlocked_Cell_Phones}\n",
      "* Owlready * Reparenting onto.Samsung_Galaxy_S6_SMG920a_Unlocked_Smartphone_32GB_15GHz_OctaCore_(Black_Sapphire): {owl.Thing, onto.Unlocked_Cell_Phones} => {onto.Unlocked_Cell_Phones}\n",
      "* Owlready * Reparenting onto.Samsung_Galaxy_S6_32GB_G920A_Unlocked_GSM__Gold_Platinum: {owl.Thing, onto.Unlocked_Cell_Phones} => {onto.Unlocked_Cell_Phones}\n",
      "* Owlready * Reparenting onto.Chargers_and_Power_Adapters: {onto.Accessories, owl.Thing} => {onto.Accessories}\n",
      "* Owlready * Reparenting onto.Bathroom_Accessories: {owl.Thing, onto.Bath} => {onto.Bath}\n",
      "* Owlready * Reparenting onto.OnePlus_One_White_55_inch_4G_FDDLTE_SmartPhone_Android_44_IPS_Capacitive_Screen_Phablet_Qualcomm_Snapdragon_801(8974AC)_Krait_400_Quad_Core_25GHz_RAM_3GB_WCDMA_GSM_5Mp+130MP_Camera1920_x_1080_Pixel_Unlock: {owl.Thing, onto.Unlocked_Cell_Phones} => {onto.Unlocked_Cell_Phones}\n",
      "* Owlready * Reparenting onto.Computers_and_Accessories: {owl.Thing, onto.Electronics} => {onto.Electronics}\n",
      "* Owlready * Reparenting onto.Squirt_Smartphone_by_HSC: {owl.Thing, onto.Pools_and_Water_Fun} => {onto.Pools_and_Water_Fun}\n",
      "* Owlready * Reparenting onto.POSIUAN_MSRM_Smart_Watch_Bluetooth_Touch_Screen_Flexible_Band_Unlocked_Watch_Cell_Phone_for_Android_Smartphones_and_iPhone_(Black): {owl.Thing, onto.Unlocked_Cell_Phones} => {onto.Unlocked_Cell_Phones}\n",
      "* Owlready * Reparenting onto.Samsung_Galaxy_Rugby_Pro_4G_LTE_I547_Unlocked_Android_Ruggedized_Smart_Phone: {owl.Thing, onto.Unlocked_Cell_Phones} => {onto.Unlocked_Cell_Phones}\n",
      "* Owlready * Reparenting onto.Unlocked_Cell_Phones_DOOGEE_X5_Dual_Sim_Smartphones__50_HD_IPS_Display__Android_60__MT6580_Quad_Core__1GB_RAM+8GB_ROM__5MP_Camera__GSM_Unlocked_Phone_International__Black(no_ads): {owl.Thing, onto.Unlocked_Cell_Phones} => {onto.Unlocked_Cell_Phones}\n",
      "* Owlready * Reparenting onto.Bonafide_HardwareTM__Smart_Phone_Repair_Tool_Kit_17_Piece_Set_Screw_Driver_Torx_Pentalobe_Cell_Tools: {owl.Thing, onto.Replacement_Parts} => {onto.Replacement_Parts}\n",
      "* Owlready * Reparenting onto.Samsung_Galaxy_J7_Prime_(32GB)_G610F/DS__55_Dual_SIM_Unlocked_Phone_with_Finger_Print_Sensor_(White_Gold): {owl.Thing, onto.Unlocked_Cell_Phones} => {onto.Unlocked_Cell_Phones}\n",
      "* Owlready * Reparenting onto.Samsung_GALAXY_S6_G920_32GB_Unlocked_GSM_4G_LTE_OctaCore_Smartphone__Black_Sapphire: {owl.Thing, onto.Unlocked_Cell_Phones} => {onto.Unlocked_Cell_Phones}\n",
      "* Owlready * Reparenting onto.Samsung_SmartThings_Smart_Home_Hub: {owl.Thing, onto.Home_Automation_Devices} => {onto.Home_Automation_Devices}\n",
      "* Owlready * Reparenting onto.Samsung_Galaxy_J3_(2016)_Duos_SMJ320H/DS_8GB_Dual_SIM_Unlocked_GSM_Smartphone__International_Version_No_Warranty_(Black): {owl.Thing, onto.Unlocked_Cell_Phones} => {onto.Unlocked_Cell_Phones}\n",
      "* Owlready * Reparenting onto.Smart_Watches: {owl.Thing, onto.Wearable_Technology} => {onto.Wearable_Technology}\n",
      "* Owlready * Reparenting onto.TracFone_LG_Rebel_4G_LTE_Prepaid_Smartphone: {owl.Thing, onto.Carrier_Cell_Phones} => {onto.Carrier_Cell_Phones}\n",
      "* Owlready * Reparenting onto.Tablet_Accessories: {onto.Computers_and_Accessories, owl.Thing} => {onto.Computers_and_Accessories}\n",
      "* Owlready * Reparenting onto.Bluetooth_Smart_Watch_Aosmart_U8_Smartwatch_for_Android_Smartphones__Black: {owl.Thing, onto.Unlocked_Cell_Phones} => {onto.Unlocked_Cell_Phones}\n",
      "* Owlready * Reparenting onto.Samsung_Galaxy_J3_(2016)_Duos_SMJ320H/DS_8GB_Dual_SIM_Unlocked_GSM_Smartphone__International_Version_No_Warranty_(White): {owl.Thing, onto.Unlocked_Cell_Phones} => {onto.Unlocked_Cell_Phones}\n",
      "* Owlready * Reparenting onto.Alcatel_Ideal_4G_LTE_Unlocked_4060A_Android_5mp_8GB_Quad_Core_Desbloqueado: {owl.Thing, onto.Unlocked_Cell_Phones} => {onto.Unlocked_Cell_Phones}\n",
      "* Owlready * Reparenting onto.Samsung_Galaxy_S6_Unlocked_SMG920A_GSM_Smartphone_White_Pearl_32GB: {owl.Thing, onto.Unlocked_Cell_Phones} => {onto.Unlocked_Cell_Phones}\n",
      "* Owlready * Reparenting onto.Oneplus_One_Plus_One_FDD_LTE_4g_Mobile_Phone_55_1080p_Snapdragon_801_3gb_RAM_64gb_ROM_Android_44_NFC_Cyanogenmod_Cm11s_(Standard): {owl.Thing, onto.Unlocked_Cell_Phones} => {onto.Unlocked_Cell_Phones}\n",
      "* Owlready * Reparenting onto.Nextbit_Robin_Factory_Unlocked_GSM_Smartphone__Midnight: {owl.Thing, onto.Unlocked_Cell_Phones} => {onto.Unlocked_Cell_Phones}\n",
      "* Owlready * Reparenting onto.Universal_2in1_Touch_Screen_Stylus_Ballpoint_Pen_[3_pcs_Black_+_3_pcs_Silver]_For_Tablet_smartphone_iPad_iPhone_iPod_Samsung_LG_HTC_Sony_PC: {owl.Thing, onto.Tablet_Accessories} => {onto.Tablet_Accessories}\n",
      "* Owlready * Reparenting onto.OnePlus_3T_6GB+64GB_NA_A3000_55_Factory_Unlocked_Phone__64_GB__Gunmetal_(US_Warranty): {owl.Thing, onto.Unlocked_Cell_Phones} => {onto.Unlocked_Cell_Phones}\n",
      "* Owlready * Reparenting onto.Samsung_Galaxy_Note_5_SMN920A_32GB_GSM_Unlocked_Cellphone_Black_Sapphire: {owl.Thing, onto.Unlocked_Cell_Phones} => {onto.Unlocked_Cell_Phones}\n",
      "* Owlready * Reparenting onto.U_Watch_Smart_Watch_Bluetooth_Watch_for_Android_smartphones_and_iPhone(Black): {owl.Thing, onto.Smart_Watches} => {onto.Smart_Watches}\n",
      "* Owlready * Reparenting onto.Bluetooth_Headsets: {onto.Accessories, owl.Thing} => {onto.Accessories}\n",
      "* Owlready * Reparenting onto.Samsung_Galaxy_S4_SGHI337_Unlocked_GSM_Smartphone_with_13_MP_Camera_Touchscreen_and_16_GB_Storage_Black: {owl.Thing, onto.Unlocked_Cell_Phones} => {onto.Unlocked_Cell_Phones}\n",
      "* Owlready * Reparenting onto.SAMSUNG_GALAXY_S4_MINI_GTi9195_8GB_LTE_UNLOCKED_International_Version_Black: {owl.Thing, onto.Unlocked_Cell_Phones} => {onto.Unlocked_Cell_Phones}\n",
      "* Owlready * Reparenting onto.LED_Bulbs: {onto.Light_Bulbs, owl.Thing} => {onto.Light_Bulbs}\n",
      "* Owlready * Reparenting onto.Carrier_Cell_Phones: {owl.Thing, onto.Cell_Phones} => {onto.Cell_Phones}\n",
      "* Owlready * Reparenting onto.Galaxy_S5_G900A_Factory_Unlocked_Android_Smartphone_16GB_White: {owl.Thing, onto.Unlocked_Cell_Phones} => {onto.Unlocked_Cell_Phones}\n",
      "* Owlready * Reparenting onto.Apple_iPhone_7_Factory_Unlocked_GSM_Smartphone__32GB_Rose_Gold_(Certified_Refurbished): {owl.Thing, onto.Unlocked_Cell_Phones} => {onto.Unlocked_Cell_Phones}\n",
      "* Owlready * Reparenting onto.Samsung_Car_Charger_for_Samsung_Devices__Retail_Packaging__Black_Sapphire: {owl.Thing, onto.Chargers_and_Power_Adapters} => {onto.Chargers_and_Power_Adapters}\n",
      "* Owlready * Reparenting onto.Home_Automation_Devices: {owl.Thing, onto.Electrical} => {onto.Electrical}\n",
      "* Owlready * Reparenting onto.Samsung_Galaxy_J7_J710M_Factory_Unlocked_Smartphone_16GB_55_Inch_13MP_No_Warranty__International_Version_(Black): {owl.Thing, onto.Unlocked_Cell_Phones} => {onto.Unlocked_Cell_Phones}\n",
      "* Owlready * Reparenting onto.BLU_R1_HD__16_GB__Black__Prime_Exclusive__with_Lockscreen_Offers_&_Ads: {owl.Thing, onto.Unlocked_Cell_Phones} => {onto.Unlocked_Cell_Phones}\n",
      "* Owlready * Reparenting onto.LOHAS_Smart_LED_Bulb_WiFi_Light_Multicolored_LED_Bulbs_A19_LED_Dimmable_60W_Equivalent(9W)_Smartphone_Controlled_Daylight_&_Night_Light_Home_Lighting_Works_with_Amazon_Alexa(1_Pack): {onto.LED_Bulbs, owl.Thing} => {onto.LED_Bulbs}\n"
     ]
    }
   ],
   "source": [
    "sync_reasoner()\n",
    "for i in onto.classes():\n",
    "    print(i.has_color)"
   ]
  },
  {
   "cell_type": "code",
   "execution_count": 16,
   "metadata": {},
   "outputs": [
    {
     "data": {
      "text/plain": [
       "[]"
      ]
     },
     "execution_count": 16,
     "metadata": {},
     "output_type": "execute_result"
    }
   ],
   "source": [
    "onto.OnePlus_One_A0001_4G_LTE_3GBRAM_64GBROM_55_Inch_International_Version__No_Warranty__Sandstone_Black.has_color"
   ]
  },
  {
   "cell_type": "code",
   "execution_count": 22,
   "metadata": {},
   "outputs": [
    {
     "data": {
      "text/plain": [
       "[]"
      ]
     },
     "execution_count": 22,
     "metadata": {},
     "output_type": "execute_result"
    }
   ],
   "source": [
    "onto.search( has_color = \"*\")"
   ]
  },
  {
   "cell_type": "code",
   "execution_count": null,
   "metadata": {
    "collapsed": true
   },
   "outputs": [],
   "source": [
    "camera_set = set()\n",
    "color_set = set()\n",
    "for i in dict_list:\n",
    "    if 'camera description' in i: camera_set.add(i['camera description'])\n",
    "    if 'color' in i: color_set.add(i['color'])\n",
    "    \n",
    "pprint(color_set)"
   ]
  },
  {
   "cell_type": "code",
   "execution_count": null,
   "metadata": {
    "collapsed": true
   },
   "outputs": [],
   "source": [
    "Phone = types.new_class(\"Phone\", (Thing,), kwds = { \"ontology\" : onto })\n",
    "Camera = types.new_class(\"Camera\", (Thing,), kwds = { \"ontology\" : onto })\n",
    "Color = types.new_class(\"Color\", (Thing,), kwds = { \"ontology\" : onto })\n",
    "has_camera = types.new_class(\"has_camera\", (Property,), kwds = { \"ontology\" : onto })\n",
    "has_color = types.new_class(\"has_color\", (Property,), kwds = { \"ontology\" : onto })\n",
    "ANNOTATIONS[has_camera][\"python_name\"] = \"has_camera\"\n",
    "ANNOTATIONS[has_color][\"python_name\"] = \"has_color\""
   ]
  },
  {
   "cell_type": "code",
   "execution_count": null,
   "metadata": {
    "collapsed": true
   },
   "outputs": [],
   "source": [
    "for i in color_set:\n",
    "    Color(i)"
   ]
  },
  {
   "cell_type": "code",
   "execution_count": null,
   "metadata": {
    "collapsed": true
   },
   "outputs": [],
   "source": [
    "for i in onto.Color._direct_instances:\n",
    "    print(vars(i))"
   ]
  },
  {
   "cell_type": "code",
   "execution_count": null,
   "metadata": {
    "collapsed": true
   },
   "outputs": [],
   "source": [
    "for i in camera_set:\n",
    "    Camera(i)"
   ]
  },
  {
   "cell_type": "code",
   "execution_count": null,
   "metadata": {
    "collapsed": true
   },
   "outputs": [],
   "source": [
    "for i in dict_list:\n",
    "    which_color = \"\"\n",
    "    if 'color' not in i: continue\n",
    "    for j in onto.Color._direct_instances:\n",
    "        if j._name == i['color']:\n",
    "            which_color = j\n",
    "    New_Class = types.new_class(i[\"asin\"][:-5], (Phone,), kwds = { \"ontology\" : onto })\n",
    "    New_Class.equivalent_to = [Phone & restriction(has_color, VALUE, j)]"
   ]
  },
  {
   "cell_type": "code",
   "execution_count": null,
   "metadata": {
    "collapsed": true
   },
   "outputs": [],
   "source": [
    "for i in dict_list:\n",
    "    "
   ]
  },
  {
   "cell_type": "code",
   "execution_count": null,
   "metadata": {
    "collapsed": true
   },
   "outputs": [],
   "source": [
    "pprint(onto.instances)"
   ]
  },
  {
   "cell_type": "code",
   "execution_count": null,
   "metadata": {
    "collapsed": true
   },
   "outputs": [],
   "source": [
    "class Phone(Thing):\n",
    "    ontology = onto\n",
    "    \n",
    "class Camera(Thing):\n",
    "    ontology = onto\n",
    "    \n",
    "class has_camera(Property):\n",
    "    ontology = onto\n",
    "    domain = [Phone]\n",
    "    range = [Camera]\n",
    "ANNOTATIONS[has_camera][\"python_name\"] = \"has_camera\"\n",
    "\n",
    "camera_8mp = Camera(\"camera_8mp\")\n",
    "camera_16mp = Camera(\"camera_16mp\")\n",
    "\n",
    "class galaxy_s8 (Phone):\n",
    "    ontology = onto\n",
    "    equivalent_to = [Phone & restriction(has_camera, VALUE, camera_16mp)]\n",
    "    \n",
    "    def print_name(self):\n",
    "        print(\"hey there\")"
   ]
  },
  {
   "cell_type": "code",
   "execution_count": null,
   "metadata": {
    "collapsed": true
   },
   "outputs": [],
   "source": [
    "pprint(vars(onto.galaxy_s8))"
   ]
  },
  {
   "cell_type": "code",
   "execution_count": null,
   "metadata": {
    "collapsed": true
   },
   "outputs": [],
   "source": [
    "query = Phone(has_color = [onto.black])\n",
    "query.closed_world()\n",
    "onto.sync_reasoner()"
   ]
  },
  {
   "cell_type": "code",
   "execution_count": null,
   "metadata": {
    "collapsed": true
   },
   "outputs": [],
   "source": []
  },
  {
   "cell_type": "code",
   "execution_count": null,
   "metadata": {
    "collapsed": true
   },
   "outputs": [],
   "source": [
    "print(vars(query))"
   ]
  },
  {
   "cell_type": "code",
   "execution_count": null,
   "metadata": {},
   "outputs": [],
   "source": [
    "for ontology in onto.indirectly_imported_ontologies(): configure_editobj_from_ontology(ontology)\n",
    "\n",
    "editobj3.GUI = \"Qt\" # \"Qt\" or \"HTML\"\n",
    "\n",
    "if editobj3.GUI == \"Qt\": # Required by Qt\n",
    "    import sys, PyQt5.QtWidgets as qtwidgets\n",
    "    if qtwidgets.QApplication.startingUp(): qtwidgets.app = qtwidgets.QApplication(sys.argv)\n",
    "\n",
    "editor = OntologyInstanceEditor()\n",
    "editor.set_ontology(onto, edited_classes = onto.classes)\n",
    "editor.main()"
   ]
  },
  {
   "cell_type": "code",
   "execution_count": null,
   "metadata": {
    "collapsed": true
   },
   "outputs": [],
   "source": []
  },
  {
   "cell_type": "code",
   "execution_count": null,
   "metadata": {
    "collapsed": true
   },
   "outputs": [],
   "source": []
  }
 ],
 "metadata": {
  "kernelspec": {
   "display_name": "amazon3",
   "language": "python",
   "name": "amazon3"
  },
  "language_info": {
   "codemirror_mode": {
    "name": "ipython",
    "version": 3
   },
   "file_extension": ".py",
   "mimetype": "text/x-python",
   "name": "python",
   "nbconvert_exporter": "python",
   "pygments_lexer": "ipython3",
   "version": "3.5.2"
  }
 },
 "nbformat": 4,
 "nbformat_minor": 2
}
