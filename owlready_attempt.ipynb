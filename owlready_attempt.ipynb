{
 "cells": [
  {
   "cell_type": "code",
   "execution_count": 1,
   "metadata": {},
   "outputs": [],
   "source": [
    "from owlready2 import *\n",
    "#from owlready.editor import *\n",
    "#from owlready.instance_editor import *\n",
    "import types\n",
    "import rdflib\n",
    "from pprint import pprint\n",
    "import editobj3\n",
    "from bs4 import BeautifulSoup\n",
    "import json"
   ]
  },
  {
   "cell_type": "code",
   "execution_count": 2,
   "metadata": {
    "collapsed": true
   },
   "outputs": [],
   "source": [
    "onto = get_ontology(\"http://test.org/onto.owl\")"
   ]
  },
  {
   "cell_type": "code",
   "execution_count": 9,
   "metadata": {},
   "outputs": [],
   "source": [
    "def string_cleanup(s):\n",
    "    s = s.strip()\n",
    "    problem_chars = ['\"', '|', \"'\", '-', ',', '.']\n",
    "    for i in problem_chars:\n",
    "        if i in s:\n",
    "            s = s.replace(i, '')\n",
    "    s = s.replace(\" \", \"_\")\n",
    "    s = s.replace(\"&\", \"and\")\n",
    "    return s\n",
    "    \n",
    "def retrieve_info_from_page(asin):\n",
    "\n",
    "    item_characteristics_dict = {}\n",
    "\n",
    "    page = open('./pages/'+asin, 'r')\n",
    "    soup = BeautifulSoup(page.read(), 'html.parser')\n",
    "    tab = soup.find('div', {'id': 'HLCXComparisonWidget_feature_div'})\n",
    "\n",
    "    # PRODUCT TITLE\n",
    "    name = soup.find('span', {'id':'productTitle'})\n",
    "    if name != None:        \n",
    "        name = string_cleanup(name.text)\n",
    "        item_characteristics_dict['name'] = name\n",
    "    else: \n",
    "        item_characteristics_dict['name'] = \"No_name\"\n",
    "        print(\"this asin: \" + asin + \" has problems on name\")\n",
    "    \n",
    "    # PRODUCT ASIN\n",
    "    item_characteristics_dict['asin'] = string_cleanup(asin)\n",
    "    \n",
    "    # PRODUCT CLASSES\n",
    "    item_characteristics_dict['classes'] = []\n",
    "    tmp = soup.find('div', {'id':'wayfinding-breadcrumbs_feature_div'})\n",
    "    if tmp!=None:\n",
    "        for i in tmp.findAll('a'):\n",
    "            item_characteristics_dict['classes'].append(string_cleanup(i.text))\n",
    "    else:\n",
    "        print(\"this asin: \" + asin + \" has problems on classes\")\n",
    "        \n",
    "    # PRODUCT BRAND\n",
    "    if soup.find('a', {'id': 'bylineInfo'}) != None:\n",
    "        item_characteristics_dict['brand'] = string_cleanup(soup.find('a', {'id': 'bylineInfo'}).text)\n",
    "    elif soup.find('a', { 'id' : 'brand' }) != None:\n",
    "        item_characteristics_dict['brand'] = string_cleanup(soup.find('a', { 'id' : 'brand' })['href'].split('/')[1])\n",
    "\n",
    "    bullets = soup.find('div', {'id':'feature-bullets'})\n",
    "    #for span in bullets.findAll('span'):\n",
    "        #print span.text.strip()\n",
    "\n",
    "    try:\n",
    "        for i, tr in enumerate(tab.findAll('tr')):\n",
    "            # tr 0:\n",
    "            # tr 1:\n",
    "            # tr 2:\n",
    "            # tr 3: customer rating\n",
    "            if i<4: continue\n",
    "\n",
    "            key = tr.findAll('td')[0].span.text\n",
    "            if tr.findAll('td')[1].span != None: \n",
    "                value = tr.findAll('td')[1].span.text\n",
    "            else: \n",
    "                value = tr.findAll('td')[1].a.text\n",
    "            if key == \"Price\": \n",
    "                value = value.strip()\n",
    "                item_characteristics_dict[key.lower()] = float(value.split('$')[1])   \n",
    "            else: item_characteristics_dict[string_cleanup(key.lower())] = string_cleanup(value.lower())\n",
    "    except: \n",
    "        print('no tr tab')\n",
    "        \n",
    "    # PROD DETAILS\n",
    "    details_tab = soup.find('div', {'id':'prodDetails'})\n",
    "\n",
    "    if soup.find('div', {'id':'productDescription'})!=None: \n",
    "        description1 = soup.find('div', {'id':'productDescription'}).p.text\n",
    "    \n",
    "    return item_characteristics_dict"
   ]
  },
  {
   "cell_type": "code",
   "execution_count": 10,
   "metadata": {},
   "outputs": [
    {
     "name": "stdout",
     "output_type": "stream",
     "text": [
      "no tr tab\n",
      "no tr tab\n",
      "this asin: B00YD53ST8.html has problems on name\n",
      "no tr tab\n",
      "no tr tab\n",
      "no tr tab\n",
      "no tr tab\n",
      "no tr tab\n",
      "no tr tab\n",
      "this asin: B00YD53DZW.html has problems on name\n",
      "no tr tab\n",
      "no tr tab\n",
      "this asin: B01L3B5PBI.html has problems on classes\n",
      "no tr tab\n",
      "no tr tab\n",
      "no tr tab\n",
      "this asin: B01MR364YB.html has problems on name\n",
      "no tr tab\n",
      "no tr tab\n",
      "this asin: B00SURH7W4.html has problems on name\n",
      "no tr tab\n",
      "no tr tab\n",
      "this asin: B00YD545CC.html has problems on name\n",
      "no tr tab\n",
      "no tr tab\n",
      "no tr tab\n",
      "no tr tab\n",
      "no tr tab\n",
      "this asin: B00QSR2ABQ.html has problems on name\n",
      "no tr tab\n",
      "no tr tab\n",
      "no tr tab\n",
      "no tr tab\n",
      "no tr tab\n",
      "no tr tab\n",
      "no tr tab\n",
      "no tr tab\n",
      "no tr tab\n",
      "no tr tab\n",
      "no tr tab\n",
      "this asin: B01MCRG3H1.html has problems on name\n",
      "no tr tab\n",
      "no tr tab\n",
      "no tr tab\n",
      "no tr tab\n"
     ]
    }
   ],
   "source": [
    "dict_list = []\n",
    "for i, page in enumerate(os.listdir('./pages')):\n",
    "    dict_list.append(retrieve_info_from_page(page))\n",
    "    \n",
    "json.dump(dict_list, open('tmp.json', 'w'))"
   ]
  },
  {
   "cell_type": "code",
   "execution_count": 4,
   "metadata": {
    "collapsed": true
   },
   "outputs": [],
   "source": [
    "onto = get_ontology(\"http://test.org/onto.owl\")\n",
    "dict_list = json.load(open('tmp.json', 'r'))"
   ]
  },
  {
   "cell_type": "code",
   "execution_count": null,
   "metadata": {},
   "outputs": [],
   "source": [
    "for i in onto.classes():\n",
    "    print(i)"
   ]
  },
  {
   "cell_type": "code",
   "execution_count": 5,
   "metadata": {},
   "outputs": [],
   "source": [
    "# CLASSES\n",
    "for i in dict_list:\n",
    "    with onto:\n",
    "        if \"classes\" in i:\n",
    "            prevclass = Thing\n",
    "            for itemclass in i[\"classes\"]:\n",
    "                if itemclass not in [j._name for j in onto.classes()]:\n",
    "                    prevclass = types.new_class(itemclass, (prevclass,))"
   ]
  },
  {
   "cell_type": "code",
   "execution_count": 6,
   "metadata": {
    "collapsed": true
   },
   "outputs": [],
   "source": [
    "# BRANDS\n",
    "with onto:\n",
    "    if \"Brand\" not in [j._name for j in onto.classes()]:\n",
    "        Brand = types.new_class(\"Brand\", (Thing,))\n",
    "    else:\n",
    "        Brand = next(j for j in onto.classes() if j.name == \"Brand\")\n",
    "    \n",
    "for i in dict_list:\n",
    "    with onto:\n",
    "        if \"brand\" in i:\n",
    "            if i[\"brand\"] not in [j._name for j in onto.classes()]:\n",
    "                New_Class = types.new_class(i['brand'], (Brand, ))                "
   ]
  },
  {
   "cell_type": "code",
   "execution_count": 7,
   "metadata": {},
   "outputs": [],
   "source": [
    "# SELLERS\n",
    "with onto:\n",
    "    if \"Seller\" not in [j._name for j in onto.classes()]:\n",
    "        Seller = types.new_class(\"Seller\", (Thing,))\n",
    "    else:\n",
    "        Seller = next(j for j in onto.classes() if j.name == \"Seller\")\n",
    "    \n",
    "for i in dict_list:\n",
    "    with onto:\n",
    "        if \"sold_by\" in i:\n",
    "            if i[\"sold_by\"] not in [j._name for j in onto.classes()]:\n",
    "                New_Class = types.new_class(i['sold_by'], (Seller, ))                "
   ]
  },
  {
   "cell_type": "code",
   "execution_count": 8,
   "metadata": {},
   "outputs": [
    {
     "ename": "ValueError",
     "evalue": "could not convert string to float: '$1794$1794'",
     "output_type": "error",
     "traceback": [
      "\u001b[0;31m---------------------------------------------------------------------------\u001b[0m",
      "\u001b[0;31mValueError\u001b[0m                                Traceback (most recent call last)",
      "\u001b[0;32m<ipython-input-8-66b737ede1d1>\u001b[0m in \u001b[0;36m<module>\u001b[0;34m()\u001b[0m\n\u001b[1;32m     16\u001b[0m                 \u001b[0mhas_price\u001b[0m \u001b[0;34m=\u001b[0m \u001b[0mtypes\u001b[0m\u001b[0;34m.\u001b[0m\u001b[0mnew_class\u001b[0m\u001b[0;34m(\u001b[0m\u001b[0;34m\"has_price\"\u001b[0m\u001b[0;34m,\u001b[0m \u001b[0;34m(\u001b[0m\u001b[0mDataProperty\u001b[0m\u001b[0;34m,\u001b[0m\u001b[0;34m)\u001b[0m\u001b[0;34m)\u001b[0m\u001b[0;34m\u001b[0m\u001b[0m\n\u001b[1;32m     17\u001b[0m                 \u001b[0mhas_price\u001b[0m\u001b[0;34m.\u001b[0m\u001b[0mrange\u001b[0m \u001b[0;34m=\u001b[0m \u001b[0;34m[\u001b[0m\u001b[0mfloat\u001b[0m\u001b[0;34m]\u001b[0m\u001b[0;34m\u001b[0m\u001b[0m\n\u001b[0;32m---> 18\u001b[0;31m                 \u001b[0mNew_Class1\u001b[0m\u001b[0;34m.\u001b[0m\u001b[0mhas_price\u001b[0m\u001b[0;34m.\u001b[0m\u001b[0mappend\u001b[0m\u001b[0;34m(\u001b[0m\u001b[0mfloat\u001b[0m\u001b[0;34m(\u001b[0m\u001b[0mi\u001b[0m\u001b[0;34m[\u001b[0m\u001b[0;34m\"price\"\u001b[0m\u001b[0;34m]\u001b[0m\u001b[0;34m)\u001b[0m\u001b[0;34m)\u001b[0m\u001b[0;34m\u001b[0m\u001b[0m\n\u001b[0m\u001b[1;32m     19\u001b[0m \u001b[0;34m\u001b[0m\u001b[0m\n\u001b[1;32m     20\u001b[0m             \u001b[0;32mif\u001b[0m \u001b[0;34m\"brand\"\u001b[0m \u001b[0;32min\u001b[0m \u001b[0mi\u001b[0m\u001b[0;34m:\u001b[0m\u001b[0;34m\u001b[0m\u001b[0m\n",
      "\u001b[0;31mValueError\u001b[0m: could not convert string to float: '$1794$1794'"
     ]
    }
   ],
   "source": [
    "# THINGS\n",
    "for i in dict_list:\n",
    "    with onto:\n",
    "        if i[\"name\"] not in [j._name for j in onto.classes()]:\n",
    "            if \"classes\" in i and len(i[\"classes\"]) > 0:\n",
    "                New_Class1 = types.new_class(i[\"name\"], (next(j for j in onto.classes() if j.name == i[\"classes\"][-1]),))\n",
    "            else:\n",
    "                New_Class1 = types.new_class(i[\"name\"], (Thing,))\n",
    "    \n",
    "            if \"color\" in i:\n",
    "                has_color = types.new_class(\"has_color\", (DataProperty,))\n",
    "                has_color.range = [str]\n",
    "                New_Class1.has_color.append(str(i[\"color\"]))\n",
    "                \n",
    "            if \"price\" in i:\n",
    "                has_price = types.new_class(\"has_price\", (DataProperty,))\n",
    "                has_price.range = [float]\n",
    "                New_Class1.has_price.append(float(i[\"price\"]))\n",
    "                    \n",
    "            if \"brand\" in i:\n",
    "                has_brand = types.new_class(\"has_brand\", (ObjectProperty,))\n",
    "                produces = types.new_class(\"produces\", (ObjectProperty,))\n",
    "                has_brand.inverse_property = produces\n",
    "                New_Class1.has_brand.append(next(j for j in onto.classes() if j.name == i[\"brand\"]))\n",
    "                \n",
    "            if \"sold_by\" in i:\n",
    "                sold_by = types.new_class(\"sold_by\", (ObjectProperty,))\n",
    "                sells = types.new_class(\"sells\", (ObjectProperty,))\n",
    "                sold_by.inverse_property = sells\n",
    "                New_Class1.sold_by.append(next(j for j in onto.classes() if j.name == i[\"sold_by\"]))"
   ]
  },
  {
   "cell_type": "code",
   "execution_count": null,
   "metadata": {},
   "outputs": [],
   "source": [
    "for i in dict_list:\n",
    "    pprint(i)"
   ]
  },
  {
   "cell_type": "code",
   "execution_count": null,
   "metadata": {},
   "outputs": [],
   "source": [
    "sync_reasoner()\n",
    "for i in onto.classes():\n",
    "    print(i.has_color)"
   ]
  },
  {
   "cell_type": "code",
   "execution_count": null,
   "metadata": {},
   "outputs": [],
   "source": [
    "onto.OnePlus_One_A0001_4G_LTE_3GBRAM_64GBROM_55_Inch_International_Version__No_Warranty__Sandstone_Black.has_color"
   ]
  },
  {
   "cell_type": "code",
   "execution_count": null,
   "metadata": {},
   "outputs": [],
   "source": [
    "graph = default_world.as_rdflib_graph()\n",
    "r = list(graph.query(\"\"\"SELECT * WHERE { ?a ?b ?c . }\"\"\"))\n",
    "#r = list(graph.query(\"\"\"SELECT * WHERE { ?a ?b <http://test.org/onto.owl#has_color> }\"\"\"))\n",
    "\n",
    "pprint(r)\n",
    "\n",
    "\n",
    "#onto.search( has_color = \"*\")"
   ]
  },
  {
   "cell_type": "code",
   "execution_count": null,
   "metadata": {
    "collapsed": true
   },
   "outputs": [],
   "source": [
    "onto.save(\"saved_ontology.rdf\")"
   ]
  },
  {
   "cell_type": "code",
   "execution_count": null,
   "metadata": {
    "collapsed": true
   },
   "outputs": [],
   "source": [
    "camera_set = set()\n",
    "color_set = set()\n",
    "for i in dict_list:\n",
    "    if 'camera description' in i: camera_set.add(i['camera description'])\n",
    "    if 'color' in i: color_set.add(i['color'])\n",
    "    \n",
    "pprint(color_set)"
   ]
  },
  {
   "cell_type": "code",
   "execution_count": null,
   "metadata": {
    "collapsed": true
   },
   "outputs": [],
   "source": [
    "Phone = types.new_class(\"Phone\", (Thing,), kwds = { \"ontology\" : onto })\n",
    "Camera = types.new_class(\"Camera\", (Thing,), kwds = { \"ontology\" : onto })\n",
    "Color = types.new_class(\"Color\", (Thing,), kwds = { \"ontology\" : onto })\n",
    "has_camera = types.new_class(\"has_camera\", (Property,), kwds = { \"ontology\" : onto })\n",
    "has_color = types.new_class(\"has_color\", (Property,), kwds = { \"ontology\" : onto })\n",
    "ANNOTATIONS[has_camera][\"python_name\"] = \"has_camera\"\n",
    "ANNOTATIONS[has_color][\"python_name\"] = \"has_color\""
   ]
  },
  {
   "cell_type": "code",
   "execution_count": null,
   "metadata": {
    "collapsed": true
   },
   "outputs": [],
   "source": [
    "for i in color_set:\n",
    "    Color(i)"
   ]
  },
  {
   "cell_type": "code",
   "execution_count": null,
   "metadata": {
    "collapsed": true
   },
   "outputs": [],
   "source": [
    "for i in onto.Color._direct_instances:\n",
    "    print(vars(i))"
   ]
  },
  {
   "cell_type": "code",
   "execution_count": null,
   "metadata": {
    "collapsed": true
   },
   "outputs": [],
   "source": [
    "for i in camera_set:\n",
    "    Camera(i)"
   ]
  },
  {
   "cell_type": "code",
   "execution_count": null,
   "metadata": {
    "collapsed": true
   },
   "outputs": [],
   "source": [
    "for i in dict_list:\n",
    "    which_color = \"\"\n",
    "    if 'color' not in i: continue\n",
    "    for j in onto.Color._direct_instances:\n",
    "        if j._name == i['color']:\n",
    "            which_color = j\n",
    "    New_Class = types.new_class(i[\"asin\"][:-5], (Phone,), kwds = { \"ontology\" : onto })\n",
    "    New_Class.equivalent_to = [Phone & restriction(has_color, VALUE, j)]"
   ]
  },
  {
   "cell_type": "code",
   "execution_count": null,
   "metadata": {
    "collapsed": true
   },
   "outputs": [],
   "source": [
    "for i in dict_list:\n",
    "    "
   ]
  },
  {
   "cell_type": "code",
   "execution_count": null,
   "metadata": {
    "collapsed": true
   },
   "outputs": [],
   "source": [
    "pprint(onto.instances)"
   ]
  },
  {
   "cell_type": "code",
   "execution_count": null,
   "metadata": {
    "collapsed": true
   },
   "outputs": [],
   "source": [
    "class Phone(Thing):\n",
    "    ontology = onto\n",
    "    \n",
    "class Camera(Thing):\n",
    "    ontology = onto\n",
    "    \n",
    "class has_camera(Property):\n",
    "    ontology = onto\n",
    "    domain = [Phone]\n",
    "    range = [Camera]\n",
    "ANNOTATIONS[has_camera][\"python_name\"] = \"has_camera\"\n",
    "\n",
    "camera_8mp = Camera(\"camera_8mp\")\n",
    "camera_16mp = Camera(\"camera_16mp\")\n",
    "\n",
    "class galaxy_s8 (Phone):\n",
    "    ontology = onto\n",
    "    equivalent_to = [Phone & restriction(has_camera, VALUE, camera_16mp)]\n",
    "    \n",
    "    def print_name(self):\n",
    "        print(\"hey there\")"
   ]
  },
  {
   "cell_type": "code",
   "execution_count": null,
   "metadata": {
    "collapsed": true
   },
   "outputs": [],
   "source": [
    "pprint(vars(onto.galaxy_s8))"
   ]
  },
  {
   "cell_type": "code",
   "execution_count": null,
   "metadata": {
    "collapsed": true
   },
   "outputs": [],
   "source": [
    "query = Phone(has_color = [onto.black])\n",
    "query.closed_world()\n",
    "onto.sync_reasoner()"
   ]
  },
  {
   "cell_type": "code",
   "execution_count": null,
   "metadata": {
    "collapsed": true
   },
   "outputs": [],
   "source": []
  },
  {
   "cell_type": "code",
   "execution_count": null,
   "metadata": {
    "collapsed": true
   },
   "outputs": [],
   "source": [
    "print(vars(query))"
   ]
  },
  {
   "cell_type": "code",
   "execution_count": null,
   "metadata": {
    "collapsed": true
   },
   "outputs": [],
   "source": [
    "for ontology in onto.indirectly_imported_ontologies(): configure_editobj_from_ontology(ontology)\n",
    "\n",
    "editobj3.GUI = \"Qt\" # \"Qt\" or \"HTML\"\n",
    "\n",
    "if editobj3.GUI == \"Qt\": # Required by Qt\n",
    "    import sys, PyQt5.QtWidgets as qtwidgets\n",
    "    if qtwidgets.QApplication.startingUp(): qtwidgets.app = qtwidgets.QApplication(sys.argv)\n",
    "\n",
    "editor = OntologyInstanceEditor()\n",
    "editor.set_ontology(onto, edited_classes = onto.classes)\n",
    "editor.main()"
   ]
  },
  {
   "cell_type": "code",
   "execution_count": null,
   "metadata": {
    "collapsed": true
   },
   "outputs": [],
   "source": []
  },
  {
   "cell_type": "code",
   "execution_count": null,
   "metadata": {
    "collapsed": true
   },
   "outputs": [],
   "source": []
  }
 ],
 "metadata": {
  "kernelspec": {
   "display_name": "amazon3",
   "language": "python",
   "name": "amazon3"
  },
  "language_info": {
   "codemirror_mode": {
    "name": "ipython",
    "version": 3
   },
   "file_extension": ".py",
   "mimetype": "text/x-python",
   "name": "python",
   "nbconvert_exporter": "python",
   "pygments_lexer": "ipython3",
   "version": "3.5.2"
  }
 },
 "nbformat": 4,
 "nbformat_minor": 2
}
